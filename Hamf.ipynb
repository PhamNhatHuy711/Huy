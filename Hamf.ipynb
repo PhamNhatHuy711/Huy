{
  "nbformat": 4,
  "nbformat_minor": 0,
  "metadata": {
    "colab": {
      "provenance": [],
      "authorship_tag": "ABX9TyPrzjdHeqWXP6l4vivY2nMl",
      "include_colab_link": true
    },
    "kernelspec": {
      "name": "python3",
      "display_name": "Python 3"
    },
    "language_info": {
      "name": "python"
    }
  },
  "cells": [
    {
      "cell_type": "markdown",
      "metadata": {
        "id": "view-in-github",
        "colab_type": "text"
      },
      "source": [
        "<a href=\"https://colab.research.google.com/github/PhamNhatHuy711/Huy/blob/main/Hamf.ipynb\" target=\"_parent\"><img src=\"https://colab.research.google.com/assets/colab-badge.svg\" alt=\"Open In Colab\"/></a>"
      ]
    },
    {
      "cell_type": "code",
      "execution_count": 18,
      "metadata": {
        "id": "yyQt8xFLbap9"
      },
      "outputs": [],
      "source": [
        "def welcome():\n",
        "  print(\"Welcome to Hue City\")"
      ]
    },
    {
      "cell_type": "code",
      "source": [
        "def welcome2(message):\n",
        "  print(message)\n"
      ],
      "metadata": {
        "id": "OvPk2R6Ib9GO"
      },
      "execution_count": 28,
      "outputs": []
    },
    {
      "cell_type": "code",
      "source": [
        "def nhap_so_n():\n",
        "  n = abs(int(input()))\n",
        "  return(n)"
      ],
      "metadata": {
        "id": "oUpUzz3QcFZT"
      },
      "execution_count": 30,
      "outputs": []
    },
    {
      "cell_type": "code",
      "source": [
        "def tinh_tong(n):\n",
        "  s = 0\n",
        "  for i in range(1, n+1):\n",
        "    s = s + i\n",
        "  return(s)"
      ],
      "metadata": {
        "id": "5CmgmzP8cNKD"
      },
      "execution_count": 20,
      "outputs": []
    },
    {
      "cell_type": "code",
      "source": [
        "def main():\n",
        "  welcome()\n",
        "  welcome2(\"Welcome to Da Nang\")\n",
        "  n = nhap_so_n()\n",
        "  s = tinh_tong(n)\n",
        "  print(s)\n"
      ],
      "metadata": {
        "id": "LKPk310bcfRb"
      },
      "execution_count": 27,
      "outputs": []
    },
    {
      "cell_type": "code",
      "source": [
        "if __name__ == \"__main__\":\n",
        "  main()"
      ],
      "metadata": {
        "colab": {
          "base_uri": "https://localhost:8080/"
        },
        "id": "B6JbdtT7eMNl",
        "outputId": "9ee2f87f-31a9-4db4-e4e0-8730a619e8c7"
      },
      "execution_count": 31,
      "outputs": [
        {
          "output_type": "stream",
          "name": "stdout",
          "text": [
            "Welcome to Hue City\n",
            "Welcome to Da Nang\n",
            "5\n",
            "15\n"
          ]
        }
      ]
    }
  ]
}