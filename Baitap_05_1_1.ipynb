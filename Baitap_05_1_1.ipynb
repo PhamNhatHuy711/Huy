{
  "nbformat": 4,
  "nbformat_minor": 0,
  "metadata": {
    "colab": {
      "provenance": [],
      "authorship_tag": "ABX9TyNPgvNLyaqtAYMMa4qXwYa7",
      "include_colab_link": true
    },
    "kernelspec": {
      "name": "python3",
      "display_name": "Python 3"
    },
    "language_info": {
      "name": "python"
    }
  },
  "cells": [
    {
      "cell_type": "markdown",
      "metadata": {
        "id": "view-in-github",
        "colab_type": "text"
      },
      "source": [
        "<a href=\"https://colab.research.google.com/github/PhamNhatHuy711/Huy/blob/main/Baitap_05_1_1.ipynb\" target=\"_parent\"><img src=\"https://colab.research.google.com/assets/colab-badge.svg\" alt=\"Open In Colab\"/></a>"
      ]
    },
    {
      "cell_type": "markdown",
      "source": [
        "Bài 1"
      ],
      "metadata": {
        "id": "8-iO6H7qLOwe"
      }
    },
    {
      "cell_type": "code",
      "execution_count": 18,
      "metadata": {
        "colab": {
          "base_uri": "https://localhost:8080/"
        },
        "id": "E1YdtXuhLGLN",
        "outputId": "710442f2-624e-4ed1-fdda-75755161010b"
      },
      "outputs": [
        {
          "name": "stdout",
          "output_type": "stream",
          "text": [
            "7\n"
          ]
        },
        {
          "output_type": "execute_result",
          "data": {
            "text/plain": [
              "[0, 1, 2, 3, 4, 5, 6, 7]"
            ]
          },
          "metadata": {},
          "execution_count": 18
        }
      ],
      "source": [
        "n = int(input())\n",
        "h = []\n",
        "for i in range(n+1):\n",
        "  h.append(i)\n",
        "h"
      ]
    },
    {
      "cell_type": "markdown",
      "source": [
        "Bài 2"
      ],
      "metadata": {
        "id": "9Rejg-ywNEf_"
      }
    },
    {
      "cell_type": "code",
      "source": [
        "z = [0,1]\n",
        "tong = 0\n",
        "tich = 1\n",
        "for i in range(n+1):\n",
        "  tong = tong + x[i]\n",
        "  tich = tich*x[i]\n",
        "  z[0] = tong\n",
        "  z[1] = tich\n",
        "print(z)\n",
        "\n"
      ],
      "metadata": {
        "colab": {
          "base_uri": "https://localhost:8080/"
        },
        "id": "Z_qhoxZONVCX",
        "outputId": "a8e1df73-3055-43a2-f199-7c5d993e8da4"
      },
      "execution_count": null,
      "outputs": [
        {
          "output_type": "stream",
          "name": "stdout",
          "text": [
            "[28, 0]\n"
          ]
        }
      ]
    },
    {
      "cell_type": "markdown",
      "source": [
        "Bài 3"
      ],
      "metadata": {
        "id": "CaCeCISJPCyY"
      }
    },
    {
      "cell_type": "code",
      "source": [
        "print(h)\n",
        "nguoc = []\n",
        "for i in range(len(h)-1,-1,-1):\n",
        "  nguoc.append(i)\n",
        "print(nguoc)"
      ],
      "metadata": {
        "id": "sbO8Tp3HPDyl",
        "colab": {
          "base_uri": "https://localhost:8080/"
        },
        "outputId": "b14501ab-916a-4a70-abf5-078a7410cd60"
      },
      "execution_count": 14,
      "outputs": [
        {
          "output_type": "stream",
          "name": "stdout",
          "text": [
            "[0, 1, 2, 3, 4, 5, 6, 7]\n",
            "[7, 6, 5, 4, 3, 2, 1, 0]\n"
          ]
        }
      ]
    },
    {
      "cell_type": "markdown",
      "source": [
        "Baì 4\n"
      ],
      "metadata": {
        "id": "lZI8UxU89y1C"
      }
    },
    {
      "cell_type": "code",
      "source": [
        "print(h)\n",
        "huy = False\n",
        "\n",
        "while huy == False:\n",
        "  x = int(input(\"Nhap chi so x: \"))\n",
        "  y = int(input(\"Nhap chi so y: \"))\n",
        "  if (x <= n) and (x >= (-n-1)) and (y <= n) and (y >= (-n-1)):\n",
        "    if (x != y) and (x != (y + n+1)) and (y != (x + n+1)):\n",
        "      huy = True\n",
        "    else:\n",
        "      print(\"x và y phải chỉ 2 phần tử khác nhau\")\n",
        "  else:\n",
        "    print(\"x hoặc y không hợp lệ!\")\n",
        "tam = h[x]\n",
        "h[x] = h[y]\n",
        "h[y] = tam\n",
        "print(h)"
      ],
      "metadata": {
        "colab": {
          "base_uri": "https://localhost:8080/"
        },
        "id": "Y8KHSywM91Bt",
        "outputId": "236f7cfc-8c19-4167-be74-405b723dd4cc"
      },
      "execution_count": 19,
      "outputs": [
        {
          "output_type": "stream",
          "name": "stdout",
          "text": [
            "[0, 1, 2, 3, 4, 5, 6, 7]\n",
            "Nhap chi so x: 3\n",
            "Nhap chi so y: 4\n",
            "[0, 1, 2, 4, 3, 5, 6, 7]\n"
          ]
        }
      ]
    },
    {
      "cell_type": "markdown",
      "source": [
        "Bài 5"
      ],
      "metadata": {
        "id": "Uqp0gMOhC1y_"
      }
    },
    {
      "cell_type": "markdown",
      "source": [
        "5.1\n"
      ],
      "metadata": {
        "id": "dGBNzDw5NB30"
      }
    },
    {
      "cell_type": "code",
      "source": [
        "x = abs(int(input()))\n",
        "y = 1\n",
        "for i in range(n+1):\n",
        "  if h[i] == x:\n",
        "    print('vị trí giá trí bằng x', i)\n",
        "    y = 0\n",
        "if y != 0:\n",
        "  print(\"Không tìm thấy\")"
      ],
      "metadata": {
        "colab": {
          "base_uri": "https://localhost:8080/"
        },
        "id": "2R9wBZW_C2m_",
        "outputId": "ff230716-245d-4034-f69b-c088ce147555"
      },
      "execution_count": 37,
      "outputs": [
        {
          "output_type": "stream",
          "name": "stdout",
          "text": [
            "4\n",
            "vị trí giá trí bằng x 3\n"
          ]
        }
      ]
    },
    {
      "cell_type": "markdown",
      "source": [
        "5.2"
      ],
      "metadata": {
        "id": "CWqZWUz7NQjE"
      }
    },
    {
      "cell_type": "code",
      "source": [
        "print('vị trí và giá trị của các phần tử lớn hơn x')\n",
        "for i in range(n+1):\n",
        "  if h[i] > x:\n",
        "    print('ví trí:', i, 'giá trị:', h[i])"
      ],
      "metadata": {
        "colab": {
          "base_uri": "https://localhost:8080/"
        },
        "id": "MZgfgaxqNRXj",
        "outputId": "7ea35676-82c6-4d06-a977-a27354f02b47"
      },
      "execution_count": 26,
      "outputs": [
        {
          "output_type": "stream",
          "name": "stdout",
          "text": [
            "vị trí và giá trị của các phần tử lớn hơn x\n",
            "ví trí: 3 giá trị: 4\n",
            "ví trí: 5 giá trị: 5\n",
            "ví trí: 6 giá trị: 6\n",
            "ví trí: 7 giá trị: 7\n"
          ]
        }
      ]
    },
    {
      "cell_type": "markdown",
      "source": [
        "5.3"
      ],
      "metadata": {
        "id": "fY7q2j8-NwGo"
      }
    },
    {
      "cell_type": "code",
      "source": [
        "print('vị trí và giá trị của các phần tử nhỏ hơn x')\n",
        "for i in range(n+1):\n",
        "  if h[i] < x:\n",
        "    print('ví trí:', i, 'giá trị:', h[i])"
      ],
      "metadata": {
        "colab": {
          "base_uri": "https://localhost:8080/"
        },
        "id": "wLry9jlqN2dT",
        "outputId": "27bd48d2-8e01-4970-faa6-846b1ec54cf5"
      },
      "execution_count": 27,
      "outputs": [
        {
          "output_type": "stream",
          "name": "stdout",
          "text": [
            "vị trí và giá trị của các phần tử nhỏ hơn x\n",
            "ví trí: 0 giá trị: 0\n",
            "ví trí: 1 giá trị: 1\n",
            "ví trí: 2 giá trị: 2\n"
          ]
        }
      ]
    }
  ]
}