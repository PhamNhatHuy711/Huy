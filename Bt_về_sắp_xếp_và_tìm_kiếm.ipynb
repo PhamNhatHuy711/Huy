{
  "cells": [
    {
      "cell_type": "markdown",
      "metadata": {
        "id": "view-in-github",
        "colab_type": "text"
      },
      "source": [
        "<a href=\"https://colab.research.google.com/github/PhamNhatHuy711/Huy/blob/main/Bt_v%E1%BB%81_s%E1%BA%AFp_x%E1%BA%BFp_v%C3%A0_t%C3%ACm_ki%E1%BA%BFm.ipynb\" target=\"_parent\"><img src=\"https://colab.research.google.com/assets/colab-badge.svg\" alt=\"Open In Colab\"/></a>"
      ]
    },
    {
      "cell_type": "markdown",
      "metadata": {
        "id": "hJK5WIQBbJ2v"
      },
      "source": [
        "3. sắp xếp"
      ]
    },
    {
      "cell_type": "markdown",
      "metadata": {
        "id": "e0lRCr6NV3HM"
      },
      "source": [
        "Bài 1"
      ]
    },
    {
      "cell_type": "code",
      "source": [
        "  v = [random.randint(-5,5) for i in range(10)]\n",
        "  print(v)"
      ],
      "metadata": {
        "colab": {
          "base_uri": "https://localhost:8080/"
        },
        "id": "BWYjZPiTg3We",
        "outputId": "f080fe12-371b-4c73-f4fb-75256cf36096"
      },
      "execution_count": 54,
      "outputs": [
        {
          "output_type": "stream",
          "name": "stdout",
          "text": [
            "[-2, -1, -1, -4, 2, -5, 2, 1, -2, 3]\n"
          ]
        }
      ]
    },
    {
      "cell_type": "code",
      "execution_count": 55,
      "metadata": {
        "colab": {
          "base_uri": "https://localhost:8080/"
        },
        "id": "Ed6dCOlaUpET",
        "outputId": "00836004-d369-42c6-ba3b-60d1b60c5dcc"
      },
      "outputs": [
        {
          "output_type": "stream",
          "name": "stdout",
          "text": [
            "3\n",
            "[0.6423309201231692, 0.9826718004117811, 0.14714354372089755]\n"
          ]
        }
      ],
      "source": [
        "n = abs(int(input()))\n",
        "from numpy import random\n",
        "x = [random.rand() for i in range(n)]\n",
        "print(x)"
      ]
    },
    {
      "cell_type": "markdown",
      "metadata": {
        "id": "6dneiiTnV5W2"
      },
      "source": [
        "Bài 2"
      ]
    },
    {
      "cell_type": "code",
      "execution_count": 56,
      "metadata": {
        "colab": {
          "base_uri": "https://localhost:8080/"
        },
        "id": "hwWKY3qTV6MX",
        "outputId": "e13d059b-c64e-459c-e82a-8fddfb9f4006"
      },
      "outputs": [
        {
          "output_type": "execute_result",
          "data": {
            "text/plain": [
              "[-5, -4, -3]"
            ]
          },
          "metadata": {},
          "execution_count": 56
        }
      ],
      "source": [
        "def sinh_vector_so_nguyen(n):\n",
        "  y = [random.randint(-5,5) for i in range(n)]\n",
        "  return y\n",
        "sinh_vector_so_nguyen(n)"
      ]
    },
    {
      "cell_type": "markdown",
      "metadata": {
        "id": "HWmaDrrbWhuO"
      },
      "source": [
        "Bài 3"
      ]
    },
    {
      "cell_type": "code",
      "execution_count": 57,
      "metadata": {
        "colab": {
          "base_uri": "https://localhost:8080/"
        },
        "id": "ANtrmrqmWigD",
        "outputId": "a8b88a33-2a99-4501-8d5a-f519fac294ce"
      },
      "outputs": [
        {
          "output_type": "stream",
          "name": "stdout",
          "text": [
            "[0.14714354372089755, 0.6423309201231692, 0.9826718004117811]\n"
          ]
        }
      ],
      "source": [
        "for i in range(n-1):\n",
        "  for j in range(i+1, n):\n",
        "    if x[i] > x[j]:\n",
        "      x[i], x[j] = x[j], x[i]\n",
        "print(x)"
      ]
    },
    {
      "cell_type": "markdown",
      "metadata": {
        "id": "R4fCjys_W8Ak"
      },
      "source": [
        "Bài 4"
      ]
    },
    {
      "cell_type": "code",
      "execution_count": 58,
      "metadata": {
        "colab": {
          "base_uri": "https://localhost:8080/"
        },
        "id": "4PbQYPLGW8sK",
        "outputId": "5072424c-24e0-4dfc-d8a9-babfa833d8e4"
      },
      "outputs": [
        {
          "output_type": "execute_result",
          "data": {
            "text/plain": [
              "[-5, -4, -2, -2, -1, -1, 1, 2, 2, 3]"
            ]
          },
          "metadata": {},
          "execution_count": 58
        }
      ],
      "source": [
        "def sap_xep_tang_dan(v):\n",
        "  n = len(v)\n",
        "  v1 = v.copy()\n",
        "  for i in range(n-1):\n",
        "    for j in range(i+1, n):\n",
        "      if v1[i] > v1[j]:\n",
        "        v1[i], v1[j] = v1[j], v1[i]\n",
        "  return v1\n",
        "sap_xep_tang_dan(v)\n"
      ]
    },
    {
      "cell_type": "markdown",
      "metadata": {
        "id": "HL2tWe7GYC8j"
      },
      "source": [
        "Bài 5"
      ]
    },
    {
      "cell_type": "code",
      "execution_count": 59,
      "metadata": {
        "colab": {
          "base_uri": "https://localhost:8080/"
        },
        "id": "0Pto828lYDwH",
        "outputId": "620bf235-17d3-4b0c-a2f5-43f3e53b8310"
      },
      "outputs": [
        {
          "output_type": "execute_result",
          "data": {
            "text/plain": [
              "[3, 2, 2, 1, -1, -1, -2, -2, -4, -5]"
            ]
          },
          "metadata": {},
          "execution_count": 59
        }
      ],
      "source": [
        "def sap_xep_giam_dan(v):\n",
        "  n = len(v)\n",
        "  v1 = v.copy()\n",
        "  for i in range(n-1):\n",
        "    for j in range(i+1, n):\n",
        "      if v1[i] < v1[j]:\n",
        "        v1[i], v1[j] = v1[j], v1[i]\n",
        "  return v1\n",
        "sap_xep_giam_dan(v)"
      ]
    },
    {
      "cell_type": "markdown",
      "metadata": {
        "id": "qyPTuH1vYQIv"
      },
      "source": [
        "Bài 6"
      ]
    },
    {
      "cell_type": "code",
      "execution_count": 65,
      "metadata": {
        "id": "Xyoo-A4_YQ0j"
      },
      "outputs": [],
      "source": [
        "def sap_xep(v, flag):\n",
        "  if flag == True:\n",
        "    return sap_xep_tang_dan(v)\n",
        "  else:\n",
        "    return sap_xep_giam_dan(v)\n"
      ]
    },
    {
      "cell_type": "markdown",
      "metadata": {
        "id": "Z_cpmn35bNkc"
      },
      "source": [
        "4. Tìm kiếm"
      ]
    },
    {
      "cell_type": "markdown",
      "metadata": {
        "id": "05VA8g4Ud7Uh"
      },
      "source": [
        "Bài 1"
      ]
    },
    {
      "cell_type": "code",
      "execution_count": null,
      "metadata": {
        "colab": {
          "base_uri": "https://localhost:8080/"
        },
        "id": "7iw9Z3jGbrJQ",
        "outputId": "74696b12-2126-4a6e-e34c-b45652e6710f"
      },
      "outputs": [
        {
          "output_type": "stream",
          "name": "stdout",
          "text": [
            "Vị trí đầu tiên n xuất hiện trong v là: 2\n"
          ]
        },
        {
          "output_type": "execute_result",
          "data": {
            "text/plain": [
              "[1, -1, -4, -3, 2, 1, -4, -5, -2, -2]"
            ]
          },
          "metadata": {},
          "execution_count": 40
        }
      ],
      "source": [
        "\n",
        "def tim_vi_tri_dau_tien(v, n):\n",
        "  try:\n",
        "    print(\"Vị trí đầu tiên n xuất hiện trong v là:\", v.index(n))\n",
        "  except ValueError:\n",
        "    print(\"n không xuất hiện trong v\")\n",
        "  return v"
      ]
    },
    {
      "cell_type": "code",
      "source": [],
      "metadata": {
        "id": "lqiYvNIvZ1Yq"
      },
      "execution_count": null,
      "outputs": []
    },
    {
      "cell_type": "markdown",
      "metadata": {
        "id": "Mh5sgfvDd9Ey"
      },
      "source": [
        "Bài 2"
      ]
    },
    {
      "cell_type": "code",
      "execution_count": null,
      "metadata": {
        "id": "Xhuqpsw9d9K2",
        "outputId": "5ffec924-ebf7-4173-b738-6fe944a6b8aa",
        "colab": {
          "base_uri": "https://localhost:8080/"
        }
      },
      "outputs": [
        {
          "output_type": "stream",
          "name": "stdout",
          "text": [
            "ví trí cuối cùng xuất hiện n là: 6\n"
          ]
        },
        {
          "output_type": "execute_result",
          "data": {
            "text/plain": [
              "[1, -1, -4, -3, 2, 1, -4, -5, -2, -2]"
            ]
          },
          "metadata": {},
          "execution_count": 43
        }
      ],
      "source": [
        "def tim_vi_tri_cuoi_cung(v, n):\n",
        "  flag = False\n",
        "  for i in range(len(v)-1,-1,-1):\n",
        "    if n == v[i]:\n",
        "      print(\"ví trí cuối cùng xuất hiện n là:\", i)\n",
        "      flag = True\n",
        "      break\n",
        "  if flag == False:\n",
        "    print(\"n không xuất hiện trong v\")\n",
        "  return v\n",
        "tim_vi_tri_cuoi_cung(v, -4)"
      ]
    },
    {
      "cell_type": "markdown",
      "metadata": {
        "id": "osaeoRQxfi11"
      },
      "source": [
        "Bài 3"
      ]
    },
    {
      "cell_type": "code",
      "execution_count": null,
      "metadata": {
        "id": "UjOoFluBfi80"
      },
      "outputs": [],
      "source": [
        "def dem_phan_tu(v, n): \n",
        "  y = 0\n",
        "  for i in range(len(v)):\n",
        "    if n == v[i]:\n",
        "        y = y + 1\n",
        "        flag = True\n",
        "  print('số lần n xuất hiện trong v là: ', y)\n",
        "  return v"
      ]
    },
    {
      "cell_type": "markdown",
      "metadata": {
        "id": "qP68KxOjfjFP"
      },
      "source": [
        "Bài 4"
      ]
    },
    {
      "cell_type": "code",
      "execution_count": null,
      "metadata": {
        "id": "DQ-qqTcEfjK4"
      },
      "outputs": [],
      "source": [
        "def liet_ke_phan_tu(v, n):\n",
        "  flag = False\n",
        "  for i in range(len(v)):\n",
        "    if n == v[i]:\n",
        "      print('vị trí xuất hiện n trong v là: ', i)\n",
        "      flag = True\n",
        "  if flag == False:\n",
        "   print(\"n không xuất hiện trong v\")\n",
        "  return v"
      ]
    },
    {
      "cell_type": "markdown",
      "metadata": {
        "id": "v3IcBizJhGZm"
      },
      "source": [
        "Bài 5"
      ]
    },
    {
      "cell_type": "code",
      "execution_count": null,
      "metadata": {
        "id": "q0KRU4BxcoVO"
      },
      "outputs": [],
      "source": [
        "def main():\n",
        "  tim_vi_tri_dau_tien(v, -4)\n",
        "  tim_vi_tri_cuoi_cung(v, -4)\n",
        "  dem_phan_tu(v, -4)\n",
        "  liet_ke_phan_tu(v, -4)"
      ]
    },
    {
      "cell_type": "code",
      "execution_count": null,
      "metadata": {
        "id": "bthfsfCrctoh",
        "outputId": "447f5a55-8e59-4157-b655-701b82aab013",
        "colab": {
          "base_uri": "https://localhost:8080/"
        }
      },
      "outputs": [
        {
          "output_type": "stream",
          "name": "stdout",
          "text": [
            "Vị trí đầu tiên n xuất hiện trong v là: 2\n",
            "ví trí cuối cùng xuất hiện n là: 6\n",
            "số lần n xuất hiện trong v là:  2\n",
            "vị trí xuất hiện n trong v là:  2\n",
            "vị trí xuất hiện n trong v là:  6\n"
          ]
        }
      ],
      "source": [
        "if __name__ == '__main__':\n",
        "  main()"
      ]
    }
  ],
  "metadata": {
    "colab": {
      "provenance": [],
      "authorship_tag": "ABX9TyN1HGCZBtNMbPVJw5djUfQn",
      "include_colab_link": true
    },
    "kernelspec": {
      "display_name": "Python 3",
      "name": "python3"
    },
    "language_info": {
      "name": "python"
    }
  },
  "nbformat": 4,
  "nbformat_minor": 0
}