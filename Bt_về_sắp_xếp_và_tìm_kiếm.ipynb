{
  "cells": [
    {
      "cell_type": "markdown",
      "metadata": {
        "id": "view-in-github",
        "colab_type": "text"
      },
      "source": [
        "<a href=\"https://colab.research.google.com/github/PhamNhatHuy711/Huy/blob/main/Bt_v%E1%BB%81_s%E1%BA%AFp_x%E1%BA%BFp_v%C3%A0_t%C3%ACm_ki%E1%BA%BFm.ipynb\" target=\"_parent\"><img src=\"https://colab.research.google.com/assets/colab-badge.svg\" alt=\"Open In Colab\"/></a>"
      ]
    },
    {
      "cell_type": "markdown",
      "metadata": {
        "id": "hJK5WIQBbJ2v"
      },
      "source": [
        "3. sắp xếp"
      ]
    },
    {
      "cell_type": "markdown",
      "metadata": {
        "id": "e0lRCr6NV3HM"
      },
      "source": [
        "Bài 1"
      ]
    },
    {
      "cell_type": "code",
      "execution_count": null,
      "metadata": {
        "colab": {
          "base_uri": "https://localhost:8080/"
        },
        "id": "Ed6dCOlaUpET",
        "outputId": "2106a9a7-05ea-4c0b-cfcc-1bb79ac3851e"
      },
      "outputs": [
        {
          "name": "stdout",
          "output_type": "stream",
          "text": [
            "6\n",
            "[0.5802881982541906, 0.11716844833477835, 0.9466350609420618, 0.8145792114413598, 0.024619359159673282, 0.053167902862305216]\n"
          ]
        }
      ],
      "source": [
        "n = abs(int(input()))\n",
        "from numpy import random\n",
        "x = [random.rand() for i in range(n)]\n",
        "print(x)"
      ]
    },
    {
      "cell_type": "markdown",
      "metadata": {
        "id": "6dneiiTnV5W2"
      },
      "source": [
        "Bài 2"
      ]
    },
    {
      "cell_type": "code",
      "execution_count": null,
      "metadata": {
        "colab": {
          "base_uri": "https://localhost:8080/"
        },
        "id": "hwWKY3qTV6MX",
        "outputId": "d8233e18-1826-4397-fd42-3e2a603e6084"
      },
      "outputs": [
        {
          "name": "stdout",
          "output_type": "stream",
          "text": [
            "[0, 1, 1, 0, 4, 4, -3]\n"
          ]
        }
      ],
      "source": [
        "def sinh_vector_so_nguyen(n):\n",
        "  y = [random.randint(-5,5) for i in range(n)]\n",
        "  print(y)\n",
        "sinh_vector_so_nguyen(n)"
      ]
    },
    {
      "cell_type": "markdown",
      "metadata": {
        "id": "HWmaDrrbWhuO"
      },
      "source": [
        "Bài 3"
      ]
    },
    {
      "cell_type": "code",
      "execution_count": null,
      "metadata": {
        "colab": {
          "base_uri": "https://localhost:8080/"
        },
        "id": "ANtrmrqmWigD",
        "outputId": "e5c77c6d-0b3e-49a8-c8d9-02e4f53bdf58"
      },
      "outputs": [
        {
          "name": "stdout",
          "output_type": "stream",
          "text": [
            "[0.0047676932763514035, 0.21684471390005866, 0.32172889976858776, 0.33567016964874286, 0.6289766515371531, 0.634801394846963, 0.81412325503551]\n"
          ]
        }
      ],
      "source": [
        "for i in range(n-1):\n",
        "  for j in range(i+1, n):\n",
        "    if x[i] > x[j]:\n",
        "      x[i], x[j] = x[j], x[i]\n",
        "print(x)"
      ]
    },
    {
      "cell_type": "markdown",
      "metadata": {
        "id": "R4fCjys_W8Ak"
      },
      "source": [
        "Bài 4"
      ]
    },
    {
      "cell_type": "code",
      "execution_count": null,
      "metadata": {
        "colab": {
          "base_uri": "https://localhost:8080/"
        },
        "id": "4PbQYPLGW8sK",
        "outputId": "ff888244-13d1-4d04-c0d1-d0929209adfa"
      },
      "outputs": [
        {
          "name": "stdout",
          "output_type": "stream",
          "text": [
            "[-5, -4, -4, -1, 0, 3]\n"
          ]
        }
      ],
      "source": [
        "def sap_xep_tang_dan(v):\n",
        "  v = [random.randint(-5,5) for i in range(n)]\n",
        "  for i in range(n-1):\n",
        "    for j in range(i+1, n):\n",
        "      if v[i] > v[j]:\n",
        "        v[i], v[j] = v[j], v[i]\n",
        "  print(v)\n",
        "sap_xep_tang_dan(v)\n"
      ]
    },
    {
      "cell_type": "markdown",
      "metadata": {
        "id": "HL2tWe7GYC8j"
      },
      "source": [
        "Bài 5"
      ]
    },
    {
      "cell_type": "code",
      "execution_count": null,
      "metadata": {
        "colab": {
          "base_uri": "https://localhost:8080/"
        },
        "id": "0Pto828lYDwH",
        "outputId": "2305f1f4-2e96-40ad-e77e-3b9cf1617c53"
      },
      "outputs": [
        {
          "name": "stdout",
          "output_type": "stream",
          "text": [
            "[4, 3, 2, 1, -3, -4, -5]\n"
          ]
        }
      ],
      "source": [
        "def sap_xep_giam_dan(v):\n",
        "  v = [random.randint(-5,5) for i in range(n)]\n",
        "  for i in range(n-1):\n",
        "    for j in range(i+1, n):\n",
        "      if v[i] < v[j]:\n",
        "        v[i], v[j] = v[j], v[i]\n",
        "  print(v)\n",
        "sap_xep_giam_dan(v)"
      ]
    },
    {
      "cell_type": "markdown",
      "metadata": {
        "id": "qyPTuH1vYQIv"
      },
      "source": [
        "Bài 6"
      ]
    },
    {
      "cell_type": "code",
      "execution_count": null,
      "metadata": {
        "id": "Xyoo-A4_YQ0j"
      },
      "outputs": [],
      "source": [
        "def sap_xep (v, flag):\n",
        "  v = [random.randint(-5,5) for i in range(n)]\n",
        "  if flag == True:\n",
        "    for i in range(n-1):\n",
        "      for j in range(i+1, n):\n",
        "        if v[i] > v[j]:\n",
        "          v[i], v[j] = v[j], v[i]\n",
        "  else:\n",
        "    for i in range(n-1):\n",
        "      for j in range(i+1, n):\n",
        "        if v[i] < v[j]:\n",
        "          v[i], v[j] = v[j], v[i]\n",
        "  print(v)"
      ]
    },
    {
      "cell_type": "markdown",
      "metadata": {
        "id": "eLaazgz1ZaCw"
      },
      "source": [
        "tạo main"
      ]
    },
    {
      "cell_type": "code",
      "execution_count": null,
      "metadata": {
        "id": "rV15v2dJZboY"
      },
      "outputs": [],
      "source": [
        "def main():\n",
        "  sinh_vector_so_nguyen(9)\n",
        "  sap_xep_tang_dan(v)\n",
        "  sap_xep_giam_dan(v)\n",
        "  sap_xep (v, True)\n"
      ]
    },
    {
      "cell_type": "code",
      "execution_count": null,
      "metadata": {
        "colab": {
          "base_uri": "https://localhost:8080/"
        },
        "id": "LyrXqUM5aErk",
        "outputId": "848cf29c-b407-4298-dd2d-73ced9a1dd98"
      },
      "outputs": [
        {
          "name": "stdout",
          "output_type": "stream",
          "text": [
            "[2, -3, 4, 3, -3, 0, -1, -1, -1]\n",
            "[1, 1, 1, 2, 3, 4]\n",
            "[1, 0, -1, -2, -4, -5]\n",
            "[-2, 1, 2, 2, 2, 3]\n"
          ]
        }
      ],
      "source": [
        "if __name__ == '__main__':\n",
        "  main()"
      ]
    },
    {
      "cell_type": "markdown",
      "metadata": {
        "id": "Z_cpmn35bNkc"
      },
      "source": [
        "4. Tìm kiếm"
      ]
    },
    {
      "cell_type": "markdown",
      "metadata": {
        "id": "05VA8g4Ud7Uh"
      },
      "source": [
        "Bài 1"
      ]
    },
    {
      "cell_type": "code",
      "execution_count": null,
      "metadata": {
        "colab": {
          "background_save": true
        },
        "id": "7iw9Z3jGbrJQ"
      },
      "outputs": [],
      "source": [
        "x = 10\n",
        "def tim_vi_tri_dau_tien(v, n):\n",
        "  v = [random.randint(-10, 11) for i in range(x)]\n",
        "  flag = False\n",
        "  i = 0\n",
        "  while (flag == False) or (i < (len(v)-1)):\n",
        "      if n == v[i]:\n",
        "       print(\"ví trí xuất hiện đầu tiên của số nguyên n là: \", i)\n",
        "       flag = True\n",
        "      i = i + 1\n",
        "  if flag == False:\n",
        "    print(\"không tìm thấy giá trị n trong v\")"
      ]
    },
    {
      "cell_type": "markdown",
      "metadata": {
        "id": "Mh5sgfvDd9Ey"
      },
      "source": [
        "Bài 2"
      ]
    },
    {
      "cell_type": "code",
      "execution_count": null,
      "metadata": {
        "id": "Xhuqpsw9d9K2"
      },
      "outputs": [],
      "source": [
        "def tim_vi_tri_cuoi_cung(v, n):\n",
        "  v = [1, 2, 3, 4, 6, 7, 8, 6] #[random.randint(-10, 11) for i in range(x)]\n",
        "  flag = False\n",
        "  print(v)\n",
        "  for i in range(len(v)-1, -1, -1):\n",
        "    if n == v[i]:\n",
        "       print(\"ví trí xuất hiện cuối cùng của số nguyên n là: \", i)\n",
        "       flag = True\n",
        "  if flag == False:\n",
        "    print(\"không tìm thấy giá trị n trong v\")"
      ]
    },
    {
      "cell_type": "markdown",
      "metadata": {
        "id": "osaeoRQxfi11"
      },
      "source": [
        "Bài 3"
      ]
    },
    {
      "cell_type": "code",
      "execution_count": null,
      "metadata": {
        "id": "UjOoFluBfi80"
      },
      "outputs": [],
      "source": [
        "def dem_phan_tu(v, n): \n",
        "  y = 0\n",
        "  v = [random.randint(-10, 11) for i in range(x)]\n",
        "  print(v)\n",
        "  for i in range(len(v)):\n",
        "    if n == v[i]:\n",
        "        y = y + 1\n",
        "        flag = True\n",
        "  print('số lần n xuất hiện trong v là: ', y)"
      ]
    },
    {
      "cell_type": "markdown",
      "metadata": {
        "id": "qP68KxOjfjFP"
      },
      "source": [
        "Bài 4"
      ]
    },
    {
      "cell_type": "code",
      "execution_count": null,
      "metadata": {
        "id": "DQ-qqTcEfjK4"
      },
      "outputs": [],
      "source": [
        "def liet_ke_phan_tu(v, n):\n",
        "  v = [random.randint(-10, 11) for i in range(x)]\n",
        "  print(v)\n",
        "  flag = False\n",
        "  for i in range(len(v)):\n",
        "    if n == v[i]:\n",
        "      print('vị trí xuất hiện n trong v là: ', i)\n",
        "      flag = True\n",
        "  if flag == False:\n",
        "   print(\"n không xuất hiện trong v\")"
      ]
    },
    {
      "cell_type": "markdown",
      "metadata": {
        "id": "v3IcBizJhGZm"
      },
      "source": [
        "Bài 5"
      ]
    },
    {
      "cell_type": "code",
      "execution_count": null,
      "metadata": {
        "id": "q0KRU4BxcoVO"
      },
      "outputs": [],
      "source": [
        "def main():\n",
        "  tim_vi_tri_dau_tien(v, 5)\n",
        "  tim_vi_tri_cuoi_cung(v, 6)\n",
        "  dem_phan_tu(v, 5)\n",
        "  liet_ke_phan_tu(v, 5)"
      ]
    },
    {
      "cell_type": "code",
      "execution_count": null,
      "metadata": {
        "id": "bthfsfCrctoh"
      },
      "outputs": [],
      "source": [
        "if __name__ == '__main__':\n",
        "  main()"
      ]
    }
  ],
  "metadata": {
    "colab": {
      "provenance": [],
      "authorship_tag": "ABX9TyOuc0T1ad9NzzQ928KNkUx2",
      "include_colab_link": true
    },
    "kernelspec": {
      "display_name": "Python 3",
      "name": "python3"
    },
    "language_info": {
      "name": "python"
    }
  },
  "nbformat": 4,
  "nbformat_minor": 0
}