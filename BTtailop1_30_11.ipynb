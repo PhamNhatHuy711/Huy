{
  "nbformat": 4,
  "nbformat_minor": 0,
  "metadata": {
    "colab": {
      "provenance": [],
      "authorship_tag": "ABX9TyPSGyKeMU1akttxvi0z7xZy",
      "include_colab_link": true
    },
    "kernelspec": {
      "name": "python3",
      "display_name": "Python 3"
    },
    "language_info": {
      "name": "python"
    }
  },
  "cells": [
    {
      "cell_type": "markdown",
      "metadata": {
        "id": "view-in-github",
        "colab_type": "text"
      },
      "source": [
        "<a href=\"https://colab.research.google.com/github/PhamNhatHuy711/Huy/blob/main/BTtailop1_30_11.ipynb\" target=\"_parent\"><img src=\"https://colab.research.google.com/assets/colab-badge.svg\" alt=\"Open In Colab\"/></a>"
      ]
    },
    {
      "cell_type": "markdown",
      "source": [
        "1\n"
      ],
      "metadata": {
        "id": "j-DfqXv0UPPV"
      }
    },
    {
      "cell_type": "code",
      "source": [
        "import numpy as np"
      ],
      "metadata": {
        "id": "GwFACtw1UX3d"
      },
      "execution_count": 3,
      "outputs": []
    },
    {
      "cell_type": "code",
      "execution_count": 2,
      "metadata": {
        "colab": {
          "base_uri": "https://localhost:8080/"
        },
        "id": "qgQ9J2l3Smuf",
        "outputId": "e5288d47-3923-43f8-cd2c-ace02b63a8ac"
      },
      "outputs": [
        {
          "output_type": "stream",
          "name": "stdout",
          "text": [
            "[ 0  1  2  3  4  5  6  7  8  9 10 11 12 13 14]\n",
            "[-5 -4 -3 -2 -1  0  1  2  3  4  5  6  7  8  9]\n"
          ]
        }
      ],
      "source": [
        "v1 = np.arange(15, dtype=int)\n",
        "v2 = np.arange(start=-5, stop =\n",
        "10, dtype=int)\n",
        "print(v1)\n",
        "print(v2)"
      ]
    },
    {
      "cell_type": "markdown",
      "source": [
        "2"
      ],
      "metadata": {
        "id": "01SHtuZ6UZxF"
      }
    },
    {
      "cell_type": "code",
      "source": [
        "v3 = np.linspace(start=-2, stop=\n",
        "3, num=15, dtype=float)\n",
        "print(v3)"
      ],
      "metadata": {
        "colab": {
          "base_uri": "https://localhost:8080/"
        },
        "id": "blJ5jqUqUaW9",
        "outputId": "3af8bb14-9297-4859-8c79-1b21daa468d7"
      },
      "execution_count": 4,
      "outputs": [
        {
          "output_type": "stream",
          "name": "stdout",
          "text": [
            "[-2.         -1.64285714 -1.28571429 -0.92857143 -0.57142857 -0.21428571\n",
            "  0.14285714  0.5         0.85714286  1.21428571  1.57142857  1.92857143\n",
            "  2.28571429  2.64285714  3.        ]\n"
          ]
        }
      ]
    },
    {
      "cell_type": "markdown",
      "source": [
        "3"
      ],
      "metadata": {
        "id": "zsfnIUi0UjQt"
      }
    },
    {
      "cell_type": "code",
      "source": [
        "np.random.seed(123)\n",
        "v4 = np.random.randint(2, size=10)\n",
        "print(v4)\n",
        "v5 = np.random.randint(low=-3,high=3, size=10)\n",
        "print(v5)"
      ],
      "metadata": {
        "colab": {
          "base_uri": "https://localhost:8080/"
        },
        "id": "gTjpX83mUj7t",
        "outputId": "086e4c01-c8bd-46e0-ebd3-b5259fff13ad"
      },
      "execution_count": 5,
      "outputs": [
        {
          "output_type": "stream",
          "name": "stdout",
          "text": [
            "[0 1 0 0 0 0 0 1 1 0]\n",
            "[ 0 -2 -2 -3 -2 -2 -3 -3 -2  0]\n"
          ]
        }
      ]
    },
    {
      "cell_type": "markdown",
      "source": [
        "4"
      ],
      "metadata": {
        "id": "wuAwe9wfU5bN"
      }
    },
    {
      "cell_type": "code",
      "source": [
        "v6 = np.random.random_sample(10)\n",
        "print(v6)\n",
        "a =-2\n",
        "b = 3\n",
        "v7 = (b -\n",
        "a)*np.random.random_sample(10) + a\n",
        "print(v7)"
      ],
      "metadata": {
        "colab": {
          "base_uri": "https://localhost:8080/"
        },
        "id": "HyjOQZG3U5z1",
        "outputId": "43c630ac-710d-4883-8a2d-800dded4f242"
      },
      "execution_count": 6,
      "outputs": [
        {
          "output_type": "stream",
          "name": "stdout",
          "text": [
            "[0.24475928 0.69475518 0.5939024  0.63179202 0.44025718 0.08372648\n",
            " 0.71233018 0.42786349 0.2977805  0.49208478]\n",
            "[ 1.70148195 -0.21135541  0.08604974  1.27360654 -0.13099287 -0.82743562\n",
            "  2.93997643  1.82997975  1.88502219 -1.86009022]\n"
          ]
        }
      ]
    },
    {
      "cell_type": "markdown",
      "source": [
        "5"
      ],
      "metadata": {
        "id": "-g_p5OP3U9oO"
      }
    },
    {
      "cell_type": "code",
      "source": [
        "n = abs(int(input()))\n",
        "v8 = np.linspace(start=-5, stop=\n",
        "10, num=n, dtype=int)\n",
        "v9 = np.linspace(start=-2, stop=\n",
        "7, num=n, dtype=int)\n",
        "v10 = np.random.randint(low=-3,high=12, size=n)\n",
        "v11 = np.random.randint(low=0,high=7, size=n)\n",
        "print(v8)\n",
        "print(v9)\n",
        "print(v10)\n",
        "print(v11)\n"
      ],
      "metadata": {
        "colab": {
          "base_uri": "https://localhost:8080/"
        },
        "id": "KpixPjBSVCOV",
        "outputId": "c9fb42df-c70b-4a6d-9fc2-12455d90c24a"
      },
      "execution_count": 9,
      "outputs": [
        {
          "output_type": "stream",
          "name": "stdout",
          "text": [
            "8\n",
            "[-5 -3 -1  1  3  5  7 10]\n",
            "[-2 -1  0  1  3  4  5  7]\n",
            "[-3  3 11  1  4  8  3  4]\n",
            "[1 3 2 5 1 2 4 0]\n"
          ]
        }
      ]
    },
    {
      "cell_type": "markdown",
      "source": [
        "6"
      ],
      "metadata": {
        "id": "dahsrJ6EXgWu"
      }
    },
    {
      "cell_type": "code",
      "source": [
        "print(v7.shape)\n",
        "print(v7.ndim)"
      ],
      "metadata": {
        "colab": {
          "base_uri": "https://localhost:8080/"
        },
        "id": "xm5OvWASYzZ6",
        "outputId": "bbda237d-d0c7-4a52-8183-f6a38e481a08"
      },
      "execution_count": 10,
      "outputs": [
        {
          "output_type": "stream",
          "name": "stdout",
          "text": [
            "(10,)\n",
            "1\n"
          ]
        }
      ]
    },
    {
      "cell_type": "markdown",
      "source": [
        "7"
      ],
      "metadata": {
        "id": "Nn8Ko8l6Y4mB"
      }
    },
    {
      "cell_type": "code",
      "source": [
        "a = 5\n",
        "v12 = 5*v5\n",
        "print(v12)"
      ],
      "metadata": {
        "colab": {
          "base_uri": "https://localhost:8080/"
        },
        "id": "1y6yRxfsY5Ep",
        "outputId": "3f833dea-88b8-40b2-b193-62c0e35df895"
      },
      "execution_count": 11,
      "outputs": [
        {
          "output_type": "stream",
          "name": "stdout",
          "text": [
            "[  0 -10 -10 -15 -10 -10 -15 -15 -10   0]\n"
          ]
        }
      ]
    },
    {
      "cell_type": "markdown",
      "source": [
        "8"
      ],
      "metadata": {
        "id": "yY13bS3sZBaj"
      }
    },
    {
      "cell_type": "code",
      "source": [
        "x = np.random.randint(5, size=10)\n",
        "y = np.random.randint(low=-\n",
        "5,high=5, size=10)\n",
        "z = x + y\n",
        "print('z = ', z)"
      ],
      "metadata": {
        "colab": {
          "base_uri": "https://localhost:8080/"
        },
        "id": "NL3glcrgZB9L",
        "outputId": "cdd4cd3a-0ced-4beb-8f43-810a4d58f350"
      },
      "execution_count": 12,
      "outputs": [
        {
          "output_type": "stream",
          "name": "stdout",
          "text": [
            "z =  [-3  5  0 -1  1  7  6  5 -3 -2]\n"
          ]
        }
      ]
    },
    {
      "cell_type": "markdown",
      "source": [
        "9"
      ],
      "metadata": {
        "id": "vPqtcOMbZH18"
      }
    },
    {
      "cell_type": "code",
      "source": [
        "x = np.random.randint(5, size=10)\n",
        "y = np.random.randint(low=-\n",
        "5,high=5, size=10)\n",
        "print('x = ', x)\n",
        "print('y = ', y)\n",
        "n = np.dot(x, y)\n",
        "print('n = ', n)"
      ],
      "metadata": {
        "colab": {
          "base_uri": "https://localhost:8080/"
        },
        "id": "ggCR1A14ZIWc",
        "outputId": "27cf8757-12c2-44c9-bc61-5ecdd9aaab08"
      },
      "execution_count": 14,
      "outputs": [
        {
          "output_type": "stream",
          "name": "stdout",
          "text": [
            "x =  [1 0 3 1 3 4 4 1 4 4]\n",
            "y =  [-2 -2  2  1  3  1 -1 -1  2 -5]\n",
            "n =  1\n"
          ]
        }
      ]
    },
    {
      "cell_type": "markdown",
      "source": [
        "10"
      ],
      "metadata": {
        "id": "Rut6ElvBZPYL"
      }
    },
    {
      "cell_type": "code",
      "source": [
        "x = np.random.randint(5, size=10)\n",
        "y = np.random.randint(low=-\n",
        "5,high=5, size=10)\n",
        "print('x = ', x)\n",
        "print('y = ', y)\n",
        "h = np.multiply(x, y)\n",
        "print('Hadamard product = ', h)"
      ],
      "metadata": {
        "colab": {
          "base_uri": "https://localhost:8080/"
        },
        "id": "7qaG3-NSZQFM",
        "outputId": "6fbd1f4a-48d6-4e79-851e-eb3159f8fcd3"
      },
      "execution_count": 15,
      "outputs": [
        {
          "output_type": "stream",
          "name": "stdout",
          "text": [
            "x =  [0 1 0 0 4 2 2 0 1 0]\n",
            "y =  [ 2  4 -4  2 -4  2  4  3  2 -4]\n",
            "Hadamard product =  [  0   4   0   0 -16   4   8   0   2   0]\n"
          ]
        }
      ]
    }
  ]
}