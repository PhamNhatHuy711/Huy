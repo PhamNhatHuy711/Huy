{
  "nbformat": 4,
  "nbformat_minor": 0,
  "metadata": {
    "colab": {
      "provenance": [],
      "authorship_tag": "ABX9TyMq7uPzpGiXMsYuVUfPWknM",
      "include_colab_link": true
    },
    "kernelspec": {
      "name": "python3",
      "display_name": "Python 3"
    },
    "language_info": {
      "name": "python"
    }
  },
  "cells": [
    {
      "cell_type": "markdown",
      "metadata": {
        "id": "view-in-github",
        "colab_type": "text"
      },
      "source": [
        "<a href=\"https://colab.research.google.com/github/PhamNhatHuy711/Huy/blob/main/H%C3%A0m2.ipynb\" target=\"_parent\"><img src=\"https://colab.research.google.com/assets/colab-badge.svg\" alt=\"Open In Colab\"/></a>"
      ]
    },
    {
      "cell_type": "code",
      "execution_count": 1,
      "metadata": {
        "id": "RXhKit8bxdW4"
      },
      "outputs": [],
      "source": [
        "def tong(a, b):\n",
        "  tong = a+b\n",
        "  hieu = a-b\n",
        "  tich = a*b\n",
        "  thuong = a/b\n",
        "  return tong, tich, thuong, hieu\n",
        "  "
      ]
    },
    {
      "cell_type": "code",
      "source": [
        "def main():\n",
        "  ketqua = tong(15, 6)\n",
        "  print(type(ketqua))\n",
        "  a,_, c,_ = tong(15, 6)\n",
        "  print(\"a = \", a, '; b = ' , '; c = ', c, '; d = ')"
      ],
      "metadata": {
        "id": "oTRMd-B0x6_g"
      },
      "execution_count": 24,
      "outputs": []
    },
    {
      "cell_type": "code",
      "source": [
        "def welcome(*n):\n",
        "  print('số lượng phần tử của tham số', len(n))\n",
        "  for arg in n:\n",
        "    print(arg)\n",
        "def huy():\n",
        "  welcome(3, 7, 21)\n",
        "  welcome(3, 'huy', -6, 5, 9)"
      ],
      "metadata": {
        "id": "z-0DZEXR0zT6"
      },
      "execution_count": 27,
      "outputs": []
    },
    {
      "cell_type": "code",
      "source": [
        "if __name__ == '__main__':\n",
        "  main()\n",
        "  huy()"
      ],
      "metadata": {
        "colab": {
          "base_uri": "https://localhost:8080/"
        },
        "id": "UjvHgQuXyEZT",
        "outputId": "bcd67a3a-286c-41e6-fc36-d23c55a6b8c7"
      },
      "execution_count": 28,
      "outputs": [
        {
          "output_type": "stream",
          "name": "stdout",
          "text": [
            "<class 'tuple'>\n",
            "a =  21 ; b =  ; c =  2.5 ; d = \n",
            "số lượng phần tử của tham số 3\n",
            "3\n",
            "7\n",
            "21\n",
            "số lượng phần tử của tham số 5\n",
            "3\n",
            "huy\n",
            "-6\n",
            "5\n",
            "9\n"
          ]
        }
      ]
    }
  ]
}