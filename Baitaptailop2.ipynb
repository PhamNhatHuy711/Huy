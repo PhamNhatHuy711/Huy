{
  "nbformat": 4,
  "nbformat_minor": 0,
  "metadata": {
    "colab": {
      "provenance": [],
      "authorship_tag": "ABX9TyOSbyV6ckZxdA7vH2RzuE91",
      "include_colab_link": true
    },
    "kernelspec": {
      "name": "python3",
      "display_name": "Python 3"
    },
    "language_info": {
      "name": "python"
    }
  },
  "cells": [
    {
      "cell_type": "markdown",
      "metadata": {
        "id": "view-in-github",
        "colab_type": "text"
      },
      "source": [
        "<a href=\"https://colab.research.google.com/github/PhamNhatHuy711/Huy/blob/main/Baitaptailop2.ipynb\" target=\"_parent\"><img src=\"https://colab.research.google.com/assets/colab-badge.svg\" alt=\"Open In Colab\"/></a>"
      ]
    },
    {
      "cell_type": "code",
      "execution_count": 41,
      "metadata": {
        "id": "0eg5_Pwei3u5"
      },
      "outputs": [],
      "source": [
        "a = 1\n",
        "b = 2\n",
        "def giai_pt_bac_1(a, b):\n",
        "  print(\"Phương trình bậc 1\")\n",
        "  print(\"hệ số a = \", a, \"\\n hệ số b = \", b)\n",
        "  if a == 0:\n",
        "    if b == 0:\n",
        "      print(\"PTVSN\")\n",
        "    else:\n",
        "      print(\"PTVN\")\n",
        "  else:\n",
        "    x = -b/a\n",
        "    print(\"phương trình có 1 nghiệm là:\", x)"
      ]
    },
    {
      "cell_type": "code",
      "source": [
        "from math import sqrt\n",
        "a = 1\n",
        "b = 2\n",
        "c = 3\n",
        "def giai_pt_bac_2(a, b, c):\n",
        "  print(\"Phương trình bậc 2\")\n",
        "  print(\"hệ số a = \", a, \"\\n hệ số b = \", b, \"\\n hệ số c = \", c)\n",
        "  if a == 0:\n",
        "    giai_pt_bac_1(b ,c)\n",
        "  else:\n",
        "    d = b*b - 4*a*c\n",
        "    x1 = float((-b + d ** 1/2) / (2 * a))\n",
        "    x2 = float((-b - d ** 1/2) / (2 * a))\n",
        "    if d < 0:\n",
        "      print(\"phương trình vô nghiệm\")\n",
        "    elif d == 0:\n",
        "      print(\"Phương trình có nghiệm kép x1=x2= \", x1)\n",
        "    else:\n",
        "      print(\"Phương trình có 2 nghiệm x1, x2 lần lượt là: x1 = \", x1,\"x2 = \", x2)"
      ],
      "metadata": {
        "id": "seimRI0PjWO4"
      },
      "execution_count": 71,
      "outputs": []
    },
    {
      "cell_type": "code",
      "source": [
        "def giai_pt_bac_3(a, b, c, d):\n",
        "  print(\"Phương trình bậc 3\")\n",
        "  print(\"hệ số a = \", a, \"\\n hệ số b = \", b, \"\\n hệ số c = \", c, '\\n hệ số d = ', d)\n",
        "  if a == 0:\n",
        "    giai_pt_bac_2(a, b, c)\n",
        "  else:\n",
        "    dt = b*b - 3*a*c\n",
        "    k = (9*a*b*c - 2*pow(b, 3) - 27*pow(a, 2)*d) / (2*sqrt(abs(pow(dt, 3))))\n",
        "    if dt > 0:\n",
        "     if abs(k) > 1:\n",
        "       x1 = (((abs(k) + sqrt(k*k - 1))**1/3 + (abs(k) - sqrt(k*k - 1))**1/3)*(sqrt(dt)*abs(k))/3*a*k) - b/3*a\n",
        "       print(\"Phương trình có 1 nghiệm duy nhất là x = \", x1)\n",
        "     else:\n",
        "       x1 = (2 * sqrt(dt) * cos((acos(k)) / 3) - b)/(3*a)\n",
        "       x2 = (2 * sqrt(dt) * cos((acos(k)) / 3 - 2*pi/3) - b)/(3*a)\n",
        "       x3 = (2 * sqrt(dt) * cos((acos(k)) / 3 + 2*pi/3) - b)/(3*a)\n",
        "       print(\"phương trình có 3 nghiệm lần lượt là:\")\n",
        "       print(\"x1 = \", x1)\n",
        "       print(\"x2 = \", x2)\n",
        "       print(\"x3 = \", x3)\n",
        "    elif dt == 0:\n",
        "     if (pow(b, 3) - 27*a*a*d) == 0:\n",
        "       print(\"Phương trình có 1 nghiệm duy nhất là x1 = \", -b/3*a)\n",
        "     else:\n",
        "       x1 = (-b + pow(pow((b, 3) - 27*a*a*d), 1/3))/3*a\n",
        "       print(\"Phương trình có 1 nghiệm duy nhất x2 = \", x1)\n",
        "    else:\n",
        "     x = (((k + sqrt(k*k +1)**(1/3)) + (k - sqrt(k*k +1)**(1/3)))*sqrt(abs(dt))/(3*a)) - b/(3*a)\n",
        "     print(\"phương trình có 1 nghiệm duy nhất là x3 = \", x)"
      ],
      "metadata": {
        "id": "pw4WyG76uPaG"
      },
      "execution_count": 78,
      "outputs": []
    },
    {
      "cell_type": "code",
      "source": [
        "def giaipt():\n",
        "  giai_pt_bac_1(0, 0)\n",
        "  giai_pt_bac_2(0, 12, 8)\n",
        "  giai_pt_bac_2(10, 2, 5)\n",
        "  giai_pt_bac_2(1, 2, 1)\n",
        "  giai_pt_bac_2(2, 4, -5)\n",
        "  giai_pt_bac_3(1, 2, 3, 4)\n",
        "  \n",
        "  \n",
        "  "
      ],
      "metadata": {
        "id": "PPi55r41kOCH"
      },
      "execution_count": 79,
      "outputs": []
    },
    {
      "cell_type": "code",
      "source": [
        "if __name__ == \"__main__\":\n",
        "  giaipt()"
      ],
      "metadata": {
        "colab": {
          "base_uri": "https://localhost:8080/"
        },
        "id": "gRpNvHAjmwUJ",
        "outputId": "a5598409-cfff-4935-d3e9-260c21b81b22"
      },
      "execution_count": 80,
      "outputs": [
        {
          "output_type": "stream",
          "name": "stdout",
          "text": [
            "Phương trình bậc 1\n",
            "hệ số a =  0 \n",
            " hệ số b =  0 \n",
            " hệ số c =  3\n",
            "PTVSN\n",
            "Phương trình bậc 2\n",
            "hệ số a =  0 \n",
            " hệ số b =  12 \n",
            " hệ số c =  8\n",
            "Phương trình bậc 1\n",
            "hệ số a =  12 \n",
            " hệ số b =  8 \n",
            " hệ số c =  3\n",
            "phương trình có 1 nghiệm là: -0.6666666666666666\n",
            "Phương trình bậc 2\n",
            "hệ số a =  10 \n",
            " hệ số b =  2 \n",
            " hệ số c =  5\n",
            "phương trình vô nghiệm\n",
            "Phương trình bậc 2\n",
            "hệ số a =  1 \n",
            " hệ số b =  2 \n",
            " hệ số c =  1\n",
            "Phương trình có nghiệm kép x1=x2=  -1.0\n",
            "Phương trình bậc 2\n",
            "hệ số a =  2 \n",
            " hệ số b =  4 \n",
            " hệ số c =  -5\n",
            "Phương trình có 2 nghiệm x1, x2 lần lượt là: x1 =  6.0 x2 =  -8.0\n",
            "Phương trình bậc 3\n",
            "hệ số a =  1 \n",
            " hệ số b =  2 \n",
            " hệ số c =  3 \n",
            " hệ số d =  4\n",
            "phương trình có 1 nghiệm duy nhất là x3 =  -5.333333333333334\n"
          ]
        }
      ]
    }
  ]
}