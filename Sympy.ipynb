{
  "nbformat": 4,
  "nbformat_minor": 0,
  "metadata": {
    "colab": {
      "provenance": [],
      "authorship_tag": "ABX9TyOOawe0LAUZSEewM0V1qeOc",
      "include_colab_link": true
    },
    "kernelspec": {
      "name": "python3",
      "display_name": "Python 3"
    },
    "language_info": {
      "name": "python"
    }
  },
  "cells": [
    {
      "cell_type": "markdown",
      "metadata": {
        "id": "view-in-github",
        "colab_type": "text"
      },
      "source": [
        "<a href=\"https://colab.research.google.com/github/PhamNhatHuy711/Huy/blob/main/Sympy.ipynb\" target=\"_parent\"><img src=\"https://colab.research.google.com/assets/colab-badge.svg\" alt=\"Open In Colab\"/></a>"
      ]
    },
    {
      "cell_type": "markdown",
      "source": [
        "1. Giải pt"
      ],
      "metadata": {
        "id": "pmfVkuBrR6dQ"
      }
    },
    {
      "cell_type": "code",
      "source": [
        "from sympy import*"
      ],
      "metadata": {
        "id": "kU0uGtN0SXcL"
      },
      "execution_count": 74,
      "outputs": []
    },
    {
      "cell_type": "code",
      "execution_count": 2,
      "metadata": {
        "colab": {
          "base_uri": "https://localhost:8080/"
        },
        "id": "6omcfXgIR3q8",
        "outputId": "3ee93a91-7b5b-48e7-b817-a0b445e4d4a6"
      },
      "outputs": [
        {
          "output_type": "stream",
          "name": "stdout",
          "text": [
            "Nghiệm:  [3]\n"
          ]
        }
      ],
      "source": [
        "x = symbols('x')\n",
        "eq = Eq(2*x - 6, 0)\n",
        "answer = solve(eq, x)\n",
        "print('Nghiệm: ', answer)"
      ]
    },
    {
      "cell_type": "markdown",
      "source": [
        "Bài tập 1\n"
      ],
      "metadata": {
        "id": "l_Bc5l3rSSrm"
      }
    },
    {
      "cell_type": "markdown",
      "source": [
        "1."
      ],
      "metadata": {
        "id": "ZsMp9WqlScj_"
      }
    },
    {
      "cell_type": "code",
      "source": [
        "def giai_pt(a,b,x):\n",
        "  x = symbols('x')\n",
        "  eq = Eq(a*x + b, 0)\n",
        "  kq = solve(eq, x)\n",
        "  print('Nghiệm: ', kq)\n",
        "giai_pt(-2,5,x)"
      ],
      "metadata": {
        "colab": {
          "base_uri": "https://localhost:8080/"
        },
        "id": "BReCtjHVSU2k",
        "outputId": "29171fa0-4357-43b8-c369-23d40dadfd39"
      },
      "execution_count": 7,
      "outputs": [
        {
          "output_type": "stream",
          "name": "stdout",
          "text": [
            "Nghiệm:  [5/2]\n"
          ]
        }
      ]
    },
    {
      "cell_type": "markdown",
      "source": [
        "2."
      ],
      "metadata": {
        "id": "S1RF1_V0Stdj"
      }
    },
    {
      "cell_type": "code",
      "source": [
        "giai_pt(5,-9,x)"
      ],
      "metadata": {
        "colab": {
          "base_uri": "https://localhost:8080/"
        },
        "id": "hE2WVy-TSt84",
        "outputId": "71d06f61-1544-4294-a1b9-8bd851b41cdd"
      },
      "execution_count": 8,
      "outputs": [
        {
          "output_type": "stream",
          "name": "stdout",
          "text": [
            "Nghiệm:  [9/5]\n"
          ]
        }
      ]
    },
    {
      "cell_type": "markdown",
      "source": [
        "2. Giải hệ phương trình"
      ],
      "metadata": {
        "id": "wQWkdc2aTZXY"
      }
    },
    {
      "cell_type": "code",
      "source": [
        "def giai_he_pt_2_an(a,b,c,d,e,f,g,h,x,y,z):\n",
        "  x, y= symbols('x y')\n",
        "  eq1 = Eq(a*x + b*y + c*z , 0)\n",
        "  eq2 = Eq(e*x + f*y + g*z , 0)\n",
        "  answer = solve((eq1, eq2), (x,y))\n",
        "  print(answer)\n",
        "\n"
      ],
      "metadata": {
        "id": "_ts58Bm4TboH"
      },
      "execution_count": 63,
      "outputs": []
    },
    {
      "cell_type": "code",
      "source": [
        "def giai_he_pt_3_an(a,b,c,d,e,f,g,h,i,k,l,m,x,y,z,t):\n",
        "  x, y, z= symbols('x y z')\n",
        "  eq1 = Eq(a*x + b*y + c*z + d*t, 0)\n",
        "  eq2 = Eq(e*x + f*y + g*z + h*t, 0)\n",
        "  eq3 = Eq(i*x + k*y + l*z + m*t, 0)\n",
        "  answer = solve((eq1, eq2, eq3), (x,y,z))\n",
        "  print(answer)\n",
        "giai_he_pt_3_an(1,-1,2,-4,2,1,-1,1,1,1,1,-5,x,y,z,1)"
      ],
      "metadata": {
        "colab": {
          "base_uri": "https://localhost:8080/"
        },
        "id": "j_004nVYZBEU",
        "outputId": "7cbf9ea8-3057-4ef6-8384-bc0e381cd807"
      },
      "execution_count": 71,
      "outputs": [
        {
          "output_type": "stream",
          "name": "stdout",
          "text": [
            "{x: 0, y: 2, z: 3}\n"
          ]
        }
      ]
    },
    {
      "cell_type": "code",
      "source": [
        "giai_he_pt_2_an(2,1,-1,0,1,1,-5,0,x,y,1)"
      ],
      "metadata": {
        "colab": {
          "base_uri": "https://localhost:8080/"
        },
        "id": "pQSO5_xHVDzD",
        "outputId": "a3a7973d-19a9-40f6-f151-5ae945de0f3e"
      },
      "execution_count": 57,
      "outputs": [
        {
          "output_type": "stream",
          "name": "stdout",
          "text": [
            "{x: -4, y: 9}\n"
          ]
        }
      ]
    },
    {
      "cell_type": "markdown",
      "source": [
        "Bài tập\n"
      ],
      "metadata": {
        "id": "vWP8H04rVTFL"
      }
    },
    {
      "cell_type": "code",
      "source": [
        "def main():\n",
        "  giai_he_pt_2_an(1,-1,-3,0,3,-4,-4,0,x,y,1)\n",
        "  giai_he_pt_3_an(1,-1,2,-4,2,1,-1,1,1,1,1,-5,x,y,z,1)"
      ],
      "metadata": {
        "id": "muS5jOo3VWPR"
      },
      "execution_count": 61,
      "outputs": []
    },
    {
      "cell_type": "code",
      "source": [
        "if __name__ == \"__main__\":\n",
        "  main()"
      ],
      "metadata": {
        "colab": {
          "base_uri": "https://localhost:8080/"
        },
        "id": "ibBmYGJIWzc3",
        "outputId": "376c646a-6b97-40db-fdbd-f22abe963dc0"
      },
      "execution_count": 73,
      "outputs": [
        {
          "output_type": "stream",
          "name": "stdout",
          "text": [
            "{x: 8, y: 5}\n",
            "{x: 0, y: 2, z: 3}\n"
          ]
        }
      ]
    },
    {
      "cell_type": "markdown",
      "source": [
        "3.1 giới hạn\n"
      ],
      "metadata": {
        "id": "vWBtdYqeZnkA"
      }
    },
    {
      "cell_type": "code",
      "source": [
        "x = symbols('x')\n",
        "f = sin(x)/x\n",
        "answer = limit(f, x, 0)\n",
        "print('Kết quả giới hạn: ', answer)"
      ],
      "metadata": {
        "colab": {
          "base_uri": "https://localhost:8080/"
        },
        "id": "DyXsjH0VZpCv",
        "outputId": "2e088238-15bb-4390-ee85-63ed3039bcd0"
      },
      "execution_count": 75,
      "outputs": [
        {
          "output_type": "stream",
          "name": "stdout",
          "text": [
            "Kết quả giới hạn:  1\n"
          ]
        }
      ]
    },
    {
      "cell_type": "markdown",
      "source": [
        "Bài tập"
      ],
      "metadata": {
        "id": "0aUuoMk0aKwS"
      }
    },
    {
      "cell_type": "markdown",
      "source": [
        "1."
      ],
      "metadata": {
        "id": "TzOVYmghaSDv"
      }
    },
    {
      "cell_type": "code",
      "source": [
        "x = symbols('x')\n",
        "f = (x-8)/(x-2)\n",
        "answer = limit(f, x, 2)\n",
        "print('Kết quả giới hạn: ', answer)"
      ],
      "metadata": {
        "colab": {
          "base_uri": "https://localhost:8080/"
        },
        "id": "aV8Gni-caLv7",
        "outputId": "08071757-5089-4f6f-cc71-f7102f1c3cc5"
      },
      "execution_count": 76,
      "outputs": [
        {
          "output_type": "stream",
          "name": "stdout",
          "text": [
            "Kết quả giới hạn:  -oo\n"
          ]
        }
      ]
    },
    {
      "cell_type": "markdown",
      "source": [
        "2."
      ],
      "metadata": {
        "id": "CxkI7KStafs-"
      }
    },
    {
      "cell_type": "code",
      "source": [
        "x = symbols('x')\n",
        "f = (1-cos(x))/sin(x)\n",
        "answer = limit(f, x, 0)\n",
        "print('Kết quả giới hạn: ', answer)"
      ],
      "metadata": {
        "colab": {
          "base_uri": "https://localhost:8080/"
        },
        "id": "8yl3EdtUagJb",
        "outputId": "24a937d0-5407-4c0c-b317-220e3e620c10"
      },
      "execution_count": 77,
      "outputs": [
        {
          "output_type": "stream",
          "name": "stdout",
          "text": [
            "Kết quả giới hạn:  0\n"
          ]
        }
      ]
    },
    {
      "cell_type": "markdown",
      "source": [
        "3.2 Đạo hàm\n"
      ],
      "metadata": {
        "id": "zlqdHOekapKB"
      }
    },
    {
      "cell_type": "code",
      "source": [
        "x = symbols('x')\n",
        "f = sin(x)\n",
        "answer = diff(f, x)\n",
        "print(answer)"
      ],
      "metadata": {
        "colab": {
          "base_uri": "https://localhost:8080/"
        },
        "id": "iTf5eN1patV-",
        "outputId": "2cc012b2-c148-49c8-8f6e-5486ec0f3944"
      },
      "execution_count": 78,
      "outputs": [
        {
          "output_type": "stream",
          "name": "stdout",
          "text": [
            "cos(x)\n"
          ]
        }
      ]
    },
    {
      "cell_type": "markdown",
      "source": [
        "Bài tập"
      ],
      "metadata": {
        "id": "DKCW6o-Ga5NJ"
      }
    },
    {
      "cell_type": "markdown",
      "source": [
        "1."
      ],
      "metadata": {
        "id": "mkN90WF0a7Tt"
      }
    },
    {
      "cell_type": "code",
      "source": [
        "x = symbols('x')\n",
        "f = 3*x*x + 6*x - 8\n",
        "answer = diff(f, x)\n",
        "print(answer)"
      ],
      "metadata": {
        "colab": {
          "base_uri": "https://localhost:8080/"
        },
        "id": "xKYZ7__Ta6nT",
        "outputId": "daa52ae2-db6b-4389-bf04-4aaa4f3ce183"
      },
      "execution_count": 79,
      "outputs": [
        {
          "output_type": "stream",
          "name": "stdout",
          "text": [
            "6*x + 6\n"
          ]
        }
      ]
    },
    {
      "cell_type": "markdown",
      "source": [
        "2."
      ],
      "metadata": {
        "id": "qZLDjgBibDjy"
      }
    },
    {
      "cell_type": "code",
      "source": [
        "x = symbols('x')\n",
        "f = tan(x)\n",
        "answer = diff(f, x)\n",
        "print(answer)"
      ],
      "metadata": {
        "colab": {
          "base_uri": "https://localhost:8080/"
        },
        "id": "va-_T2kfbEMV",
        "outputId": "2d7a23d6-f99b-466f-ae39-a0efe715be04"
      },
      "execution_count": 80,
      "outputs": [
        {
          "output_type": "stream",
          "name": "stdout",
          "text": [
            "tan(x)**2 + 1\n"
          ]
        }
      ]
    },
    {
      "cell_type": "markdown",
      "source": [
        "4. tích phân"
      ],
      "metadata": {
        "id": "LucaIgeSbKIa"
      }
    },
    {
      "cell_type": "code",
      "source": [
        "x = symbols('x')\n",
        "f = cos(x)\n",
        "answer = integrate(f, x)\n",
        "print(answer)"
      ],
      "metadata": {
        "colab": {
          "base_uri": "https://localhost:8080/"
        },
        "id": "RCt2YQN-bLgf",
        "outputId": "53eafebf-6d5d-4d9e-d016-05d1a72cff6e"
      },
      "execution_count": 81,
      "outputs": [
        {
          "output_type": "stream",
          "name": "stdout",
          "text": [
            "sin(x)\n"
          ]
        }
      ]
    },
    {
      "cell_type": "code",
      "source": [
        "x = symbols('x')\n",
        "f = exp(-x)\n",
        "answer = integrate(f, (x,0, oo))\n",
        "print(answer)"
      ],
      "metadata": {
        "colab": {
          "base_uri": "https://localhost:8080/"
        },
        "id": "HCOPEUribTdn",
        "outputId": "4695e0de-d3f5-4d42-bf9e-73c811febe7b"
      },
      "execution_count": 82,
      "outputs": [
        {
          "output_type": "stream",
          "name": "stdout",
          "text": [
            "1\n"
          ]
        }
      ]
    },
    {
      "cell_type": "code",
      "source": [
        "x, y = symbols('x y')\n",
        "f = exp(-x**2-y**2)\n",
        "answer = integrate(f, (x, -oo, +oo), (y, -oo, +oo))\n",
        "print(answer)"
      ],
      "metadata": {
        "colab": {
          "base_uri": "https://localhost:8080/"
        },
        "id": "A4aP5V89bk5r",
        "outputId": "b4b83bb2-180f-4bec-cbe0-57f52d7099f7"
      },
      "execution_count": 83,
      "outputs": [
        {
          "output_type": "stream",
          "name": "stdout",
          "text": [
            "pi\n"
          ]
        }
      ]
    },
    {
      "cell_type": "markdown",
      "source": [
        "Bài tập"
      ],
      "metadata": {
        "id": "Q2bFLiWSbt6B"
      }
    },
    {
      "cell_type": "markdown",
      "source": [
        "1."
      ],
      "metadata": {
        "id": "UBRg5GgebvLD"
      }
    },
    {
      "cell_type": "code",
      "source": [
        "x = symbols('x')\n",
        "f = sin(2*x)*sin(7*x)\n",
        "answer = integrate(f, (x,-pi/2, pi/2))\n",
        "print(answer)"
      ],
      "metadata": {
        "colab": {
          "base_uri": "https://localhost:8080/"
        },
        "id": "PYOtsEAPbvjv",
        "outputId": "a5c98d94-6cbc-4f3e-c560-87913f061bba"
      },
      "execution_count": 84,
      "outputs": [
        {
          "output_type": "stream",
          "name": "stdout",
          "text": [
            "4/45\n"
          ]
        }
      ]
    },
    {
      "cell_type": "markdown",
      "source": [
        "2."
      ],
      "metadata": {
        "id": "CYtlhnG4c9g6"
      }
    },
    {
      "cell_type": "code",
      "source": [
        "x, y = symbols('x y')\n",
        "f = 2*sin(x)-3*y*y*y + 5\n",
        "answer = integrate(f, x, y)\n",
        "print(answer)"
      ],
      "metadata": {
        "colab": {
          "base_uri": "https://localhost:8080/"
        },
        "id": "LAnXjuArctCS",
        "outputId": "f0c6ddca-82c5-47a0-cd10-77ef8c823fb0"
      },
      "execution_count": 87,
      "outputs": [
        {
          "output_type": "stream",
          "name": "stdout",
          "text": [
            "-3*x*y**4/4 + y*(5*x - 2*cos(x))\n"
          ]
        }
      ]
    },
    {
      "cell_type": "markdown",
      "source": [
        "3."
      ],
      "metadata": {
        "id": "BVS4mT98dIZD"
      }
    },
    {
      "cell_type": "code",
      "source": [
        "x, y = symbols('x y')\n",
        "f = x*x + y*y\n",
        "answer = integrate(f, (x,-2, 2), (y, 0, 4))\n",
        "print(answer)"
      ],
      "metadata": {
        "colab": {
          "base_uri": "https://localhost:8080/"
        },
        "id": "M2gM1Y7LdJLw",
        "outputId": "c509e8dc-6d54-497d-f9af-15b100d8a6f8"
      },
      "execution_count": 88,
      "outputs": [
        {
          "output_type": "stream",
          "name": "stdout",
          "text": [
            "320/3\n"
          ]
        }
      ]
    }
  ]
}