{
  "nbformat": 4,
  "nbformat_minor": 0,
  "metadata": {
    "colab": {
      "provenance": [],
      "collapsed_sections": [],
      "authorship_tag": "ABX9TyMj5HApyH+RJ3uWbjVFfrtq",
      "include_colab_link": true
    },
    "kernelspec": {
      "name": "python3",
      "display_name": "Python 3"
    },
    "language_info": {
      "name": "python"
    }
  },
  "cells": [
    {
      "cell_type": "markdown",
      "metadata": {
        "id": "view-in-github",
        "colab_type": "text"
      },
      "source": [
        "<a href=\"https://colab.research.google.com/github/PhamNhatHuy711/Huy/blob/main/Bai_tap_4%2C5_13_11.ipynb\" target=\"_parent\"><img src=\"https://colab.research.google.com/assets/colab-badge.svg\" alt=\"Open In Colab\"/></a>"
      ]
    },
    {
      "cell_type": "markdown",
      "source": [
        "Bài 1\n"
      ],
      "metadata": {
        "id": "OX-v37j9I2XM"
      }
    },
    {
      "cell_type": "code",
      "source": [
        "from random import random, randint, uniform"
      ],
      "metadata": {
        "id": "TPlntI9Zf1TM"
      },
      "execution_count": 35,
      "outputs": []
    },
    {
      "cell_type": "code",
      "source": [
        "a = []\n",
        "for i in range(7):\n",
        "  x = int(int(input()))\n",
        "  a.append(x)\n",
        "print(a)"
      ],
      "metadata": {
        "colab": {
          "base_uri": "https://localhost:8080/"
        },
        "id": "a_f1vaArQDqF",
        "outputId": "d157adb5-eea1-4095-e569-5f71e4985d21"
      },
      "execution_count": null,
      "outputs": [
        {
          "output_type": "stream",
          "name": "stdout",
          "text": [
            "1\n",
            "2\n",
            "3\n",
            "4\n",
            "5\n",
            "6\n",
            "7\n",
            "[1, 2, 3, 4, 5, 6, 7]\n"
          ]
        }
      ]
    },
    {
      "cell_type": "markdown",
      "source": [
        "Bài 2\n"
      ],
      "metadata": {
        "id": "0ijO9mTsFYJH"
      }
    },
    {
      "cell_type": "code",
      "execution_count": 37,
      "metadata": {
        "colab": {
          "base_uri": "https://localhost:8080/"
        },
        "id": "FoWn60j2IW2Y",
        "outputId": "5fbb2dae-160d-4922-9ce0-3958b84c1233"
      },
      "outputs": [
        {
          "output_type": "stream",
          "name": "stdout",
          "text": [
            "[-10, 6, 9, -9, 3, -2, -4, 5, -5, -1, -1, 6, 9, 4, 5, -8, -3, -8, -3, 0, 9, -3, -1, 1, -2, 10, 10, 0, -7, 1]\n"
          ]
        }
      ],
      "source": [
        "\n",
        "b = []\n",
        "for i in range(30):\n",
        "  x = randint(-10, 10)\n",
        "  b.append(x)\n",
        "print(b)"
      ]
    },
    {
      "cell_type": "markdown",
      "source": [
        "Bài 3"
      ],
      "metadata": {
        "id": "dMSh-qblFs49"
      }
    },
    {
      "cell_type": "code",
      "source": [
        "#cách 1\n",
        "c = []\n",
        "z = []\n",
        "min = -5.7\n",
        "max = 6.9\n",
        "for i in range(30):\n",
        "  f = min + (max-min)*random()\n",
        "  c.append(f)\n",
        "print(c)\n",
        "#cách 2\n",
        "for i in range(30):\n",
        "  f = uniform(-5.7, 6.9)\n",
        "  z.append(f)\n",
        "print(z)"
      ],
      "metadata": {
        "colab": {
          "base_uri": "https://localhost:8080/"
        },
        "id": "hjzntZg4FucC",
        "outputId": "9ba63b58-ee01-4232-db93-b4afae913f1f"
      },
      "execution_count": null,
      "outputs": [
        {
          "output_type": "stream",
          "name": "stdout",
          "text": [
            "[-2.4392234715353127, 6.020124078923907, -3.0091377246408255, 6.65132334159147, 3.0631879280154584, 3.7196094615346516, -3.600209931336922, -3.12216904589362, 5.379173058771639, -4.407897753914487, 6.812862326974929, -1.8401852823092644, 3.411690202104359, 0.25727828332050073, 1.3519363509844418, 2.6529462561969313, -0.8967688919947499, 4.5932084487846145, -4.388914434627435, 0.6255931520778457, 6.392080917985468, 1.2038363450072893, 4.234467721580651, 4.093069576648053, 0.18254499706947236, 5.346680368722422, -0.166237220980328, -2.9764917671019053, 3.5539157253284293, 3.3383408326539277]\n",
            "[6.716525066596373, -4.678488033232496, -3.7240955075170543, -2.221472558903107, 3.681890956693258, -4.010511274824838, 2.274693799401187, -0.02143035072783661, 1.0418207281974459, -1.9453715235704627, -1.2338348840784166, 2.459249340172504, -1.184454392015529, -1.4521576393335076, 0.18243677225696064, -5.1511436302465015, 2.267047069028063, -4.903905471273296, -1.6903503082219, 1.6260414545202577, 4.057392237081028, -4.084303201242255, -5.507789090216008, -2.343269630260031, 5.941582697577499, 4.845412360298458, 4.348130746764304, 2.80206381367936, 3.2092108301102362, -1.8573355963553828]\n"
          ]
        }
      ]
    },
    {
      "cell_type": "markdown",
      "source": [
        "Bài 4"
      ],
      "metadata": {
        "id": "NqLIb-RDHRIP"
      }
    },
    {
      "cell_type": "code",
      "source": [
        "d=[]\n",
        "for i in range(10):\n",
        "  x = randint(-10, 10)\n",
        "  d.append(x)\n",
        "print(d)\n",
        "a = float(input())\n",
        "for i in range(10):\n",
        "  d[i] = d[i]*a\n",
        "print(d)"
      ],
      "metadata": {
        "colab": {
          "base_uri": "https://localhost:8080/"
        },
        "id": "MqDjS7RcHSXT",
        "outputId": "6bfebfa3-9731-401d-e372-fd06a7326e51"
      },
      "execution_count": null,
      "outputs": [
        {
          "output_type": "stream",
          "name": "stdout",
          "text": [
            "[8, 8, 7, -10, -7, 5, 4, -3, 9, -2]\n",
            "4\n",
            "[32.0, 32.0, 28.0, -40.0, -28.0, 20.0, 16.0, -12.0, 36.0, -8.0]\n"
          ]
        }
      ]
    },
    {
      "cell_type": "markdown",
      "source": [
        "Bài 5"
      ],
      "metadata": {
        "id": "LL4QvV-fKCsb"
      }
    },
    {
      "cell_type": "code",
      "source": [
        "x = []\n",
        "y = []\n",
        "for i in range(15):\n",
        "  z = randint(-10, 10)\n",
        "  x.append(z)\n",
        "for i in range(15):\n",
        "  z = randint(-10, 10)\n",
        "  y.append(z)\n",
        "print(x)\n",
        "print(y)\n",
        "for i in range(15):\n",
        "  x[i] = x[i] + y[i]\n",
        "print(\"Tổng 2 vecto\", x)"
      ],
      "metadata": {
        "colab": {
          "base_uri": "https://localhost:8080/"
        },
        "id": "1HYn-sY1KEIt",
        "outputId": "18a97b3d-7bbe-4bb0-b68f-efb387c7c081"
      },
      "execution_count": null,
      "outputs": [
        {
          "output_type": "stream",
          "name": "stdout",
          "text": [
            "[-1, -3, 2, -4, -10, -6, 5, 8, 8, -5, -4, 7, -8, 8, 4]\n",
            "[-9, 7, -8, 10, -5, -10, -8, -5, -2, 9, 7, 6, -2, 5, -4]\n",
            "Tổng 2 vecto [-10, 4, -6, 6, -15, -16, -3, 3, 6, 4, 3, 13, -10, 13, 0]\n"
          ]
        }
      ]
    },
    {
      "cell_type": "markdown",
      "source": [
        "Bài 6"
      ],
      "metadata": {
        "id": "GxcY1VJvL7-k"
      }
    },
    {
      "cell_type": "code",
      "source": [
        "x = []\n",
        "y = []\n",
        "for i in range(10):\n",
        "  z = randint(-10, 10)\n",
        "  x.append(z)\n",
        "for i in range(10):\n",
        "  z = randint(-10, 10)\n",
        "  y.append(z)\n",
        "print(x)\n",
        "print(y)\n",
        "for i in range(10):\n",
        "  x[i] = x[i] * y[i]\n",
        "print(\"tích 2 vecto\", x)"
      ],
      "metadata": {
        "colab": {
          "base_uri": "https://localhost:8080/"
        },
        "id": "8OYiEGQwL89p",
        "outputId": "79cb52aa-9d5a-4a69-a683-7778734f5f58"
      },
      "execution_count": null,
      "outputs": [
        {
          "output_type": "stream",
          "name": "stdout",
          "text": [
            "[-9, 10, -10, 5, 8, -4, 2, -9, -5, 4]\n",
            "[7, 0, -10, 4, 9, -9, -5, -4, 1, 4]\n",
            "tích 2 vecto [-63, 0, 100, 20, 72, 36, -10, 36, -5, 16]\n"
          ]
        }
      ]
    },
    {
      "cell_type": "markdown",
      "source": [
        "Bài 7"
      ],
      "metadata": {
        "id": "Ks_G9qAaNHfn"
      }
    },
    {
      "cell_type": "code",
      "source": [
        "x = []\n",
        "y = []\n",
        "for i in range(10):\n",
        "  z = randint(-10, 10)\n",
        "  x.append(z)\n",
        "for i in range(10):\n",
        "  z = randint(-10, 10)\n",
        "  y.append(z)\n",
        "print(x)\n",
        "print(y)\n",
        "for i in range(10):\n",
        "  x[i] = x[i] * y[i]\n",
        "tong = 0\n",
        "for i in range(10):\n",
        "  tong = tong + x[i]\n",
        "print(\"tích vô hướng 2 vecto\", tong)"
      ],
      "metadata": {
        "colab": {
          "base_uri": "https://localhost:8080/"
        },
        "id": "XY7T99HQNJCa",
        "outputId": "50d3dbb9-4c27-42a8-f3f7-be1db4c7de4d"
      },
      "execution_count": null,
      "outputs": [
        {
          "output_type": "stream",
          "name": "stdout",
          "text": [
            "[6, 8, 1, -7, 9, 10, 7, -9, 5, -2]\n",
            "[1, -1, 1, -3, -5, -2, -5, -7, -9, -7]\n",
            "tích vô hướng 2 vecto -48\n"
          ]
        }
      ]
    },
    {
      "cell_type": "markdown",
      "source": [
        "Bài 8"
      ],
      "metadata": {
        "id": "k4TzJiHZgA2o"
      }
    },
    {
      "cell_type": "code",
      "source": [
        "from numpy import random\n",
        "a = random.randint(0, 10, size = (3, 5))\n",
        "print(a)\n",
        "print(\"a[2,3] là: \", a[1][2])"
      ],
      "metadata": {
        "colab": {
          "base_uri": "https://localhost:8080/"
        },
        "id": "_zgDbqlVgA76",
        "outputId": "b7565d3b-10f2-4103-8b44-018650a54e8f"
      },
      "execution_count": 39,
      "outputs": [
        {
          "output_type": "stream",
          "name": "stdout",
          "text": [
            "[[0 1 9 6 6]\n",
            " [5 9 3 9 4]\n",
            " [7 8 0 1 0]]\n",
            "a[2,3] là:  3\n"
          ]
        }
      ]
    },
    {
      "cell_type": "markdown",
      "source": [
        "BÀi 9"
      ],
      "metadata": {
        "id": "e0WiakcUo0JA"
      }
    },
    {
      "cell_type": "code",
      "source": [
        "b = random.randint(0, 10, size = (3, 5))\n",
        "print(b)\n",
        "a = float(input())\n",
        "for i in range(3):\n",
        "  for j in range(5):\n",
        "    b[i][j] = b[i][j]*a\n",
        "print(b)"
      ],
      "metadata": {
        "colab": {
          "base_uri": "https://localhost:8080/"
        },
        "id": "0Jg9Z_Ido0Rq",
        "outputId": "cd2f6916-b364-4fc5-854b-c7f7a68e6a2f"
      },
      "execution_count": 45,
      "outputs": [
        {
          "output_type": "stream",
          "name": "stdout",
          "text": [
            "[[1 5 6 5 4]\n",
            " [2 6 9 2 7]\n",
            " [1 5 1 9 7]]\n",
            "2\n",
            "[[ 2 10 12 10  8]\n",
            " [ 4 12 18  4 14]\n",
            " [ 2 10  2 18 14]]\n"
          ]
        }
      ]
    },
    {
      "cell_type": "markdown",
      "source": [
        "Bài 10"
      ],
      "metadata": {
        "id": "RH1pSo_Lv7zj"
      }
    },
    {
      "cell_type": "code",
      "source": [
        "a = random.randint(0, 10, size = (3, 5))\n",
        "print(a)\n",
        "b = random.randint(0, 10, size = (3, 5))\n",
        "print(b)\n",
        "c = a + b\n",
        "print(c)"
      ],
      "metadata": {
        "colab": {
          "base_uri": "https://localhost:8080/"
        },
        "id": "83AxKRXZv8Gm",
        "outputId": "f8c1f320-f8c1-4c31-d161-3cbddd395d6d"
      },
      "execution_count": 34,
      "outputs": [
        {
          "output_type": "stream",
          "name": "stdout",
          "text": [
            "[[7 5 8 0 4]\n",
            " [2 8 0 6 3]\n",
            " [2 2 6 3 2]]\n",
            "[[5 3 5 9 9]\n",
            " [7 1 7 2 6]\n",
            " [9 1 3 3 1]]\n",
            "[[12  8 13  9 13]\n",
            " [ 9  9  7  8  9]\n",
            " [11  3  9  6  3]]\n"
          ]
        }
      ]
    },
    {
      "cell_type": "markdown",
      "source": [
        "Bài 11\n",
        "\n"
      ],
      "metadata": {
        "id": "b8YxPxN-ykm9"
      }
    },
    {
      "cell_type": "code",
      "source": [
        "a = random.randint(0, 10, size = (3, 4))\n",
        "print(a)\n",
        "b = random.randint(0, 10, size = (4, 5))\n",
        "print(b)\n",
        "c = a.dot(b)\n",
        "print(c)"
      ],
      "metadata": {
        "colab": {
          "base_uri": "https://localhost:8080/"
        },
        "id": "phVhE8BhymN0",
        "outputId": "befc6297-0576-4011-e231-fa549fb01510"
      },
      "execution_count": 42,
      "outputs": [
        {
          "output_type": "stream",
          "name": "stdout",
          "text": [
            "[[6 4 3 3]\n",
            " [3 6 3 4]\n",
            " [3 4 3 8]]\n",
            "[[4 2 0 4 9]\n",
            " [8 2 0 2 5]\n",
            " [8 9 0 7 5]\n",
            " [3 6 8 4 5]]\n",
            "[[ 89  65  24  65 104]\n",
            " [ 96  69  32  61  92]\n",
            " [ 92  89  64  73 102]]\n"
          ]
        }
      ]
    }
  ]
}