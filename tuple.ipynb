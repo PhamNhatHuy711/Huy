{
  "nbformat": 4,
  "nbformat_minor": 0,
  "metadata": {
    "colab": {
      "provenance": [],
      "collapsed_sections": [],
      "authorship_tag": "ABX9TyMswBbhCcRpSqnTSjYi6ldh",
      "include_colab_link": true
    },
    "kernelspec": {
      "name": "python3",
      "display_name": "Python 3"
    },
    "language_info": {
      "name": "python"
    }
  },
  "cells": [
    {
      "cell_type": "markdown",
      "metadata": {
        "id": "view-in-github",
        "colab_type": "text"
      },
      "source": [
        "<a href=\"https://colab.research.google.com/github/PhamNhatHuy711/Huy/blob/main/tuple.ipynb\" target=\"_parent\"><img src=\"https://colab.research.google.com/assets/colab-badge.svg\" alt=\"Open In Colab\"/></a>"
      ]
    },
    {
      "cell_type": "markdown",
      "source": [
        "\n",
        "\n",
        "1\n",
        "\n"
      ],
      "metadata": {
        "id": "9giijI9QkrH8"
      }
    },
    {
      "cell_type": "code",
      "execution_count": null,
      "metadata": {
        "id": "QJ73BshLkorD"
      },
      "outputs": [],
      "source": [
        "t = (12, 45, -1, -0.56, \"abc\", True)"
      ]
    },
    {
      "cell_type": "markdown",
      "source": [
        "2"
      ],
      "metadata": {
        "id": "unuokD4Jkxu9"
      }
    },
    {
      "cell_type": "code",
      "source": [
        "t"
      ],
      "metadata": {
        "colab": {
          "base_uri": "https://localhost:8080/"
        },
        "id": "2Y8fCb7ckyTc",
        "outputId": "b62bdd7d-c30f-4080-df17-0d73fb0ff130"
      },
      "execution_count": null,
      "outputs": [
        {
          "output_type": "execute_result",
          "data": {
            "text/plain": [
              "(12, 45, -1, -0.56, 'abc', True)"
            ]
          },
          "metadata": {},
          "execution_count": 2
        }
      ]
    },
    {
      "cell_type": "markdown",
      "source": [
        "3"
      ],
      "metadata": {
        "id": "zNOgq4Gqk2gc"
      }
    },
    {
      "cell_type": "code",
      "source": [
        "print(\"Phần tử đầu tiên của t\", t[0])\n",
        "print(\"Phần tử cuối cùng của t\", t[-1])"
      ],
      "metadata": {
        "colab": {
          "base_uri": "https://localhost:8080/"
        },
        "id": "yK25nqqak2sM",
        "outputId": "9d8b8089-e749-45af-f33a-09ee88349a39"
      },
      "execution_count": null,
      "outputs": [
        {
          "output_type": "stream",
          "name": "stdout",
          "text": [
            "Phần tử đầu tiên của t 12\n",
            "Phần tử cuối cùng của t True\n"
          ]
        }
      ]
    },
    {
      "cell_type": "markdown",
      "source": [
        "4"
      ],
      "metadata": {
        "id": "VXBjgCJAlSOE"
      }
    },
    {
      "cell_type": "code",
      "source": [
        "print(\"giá trị của phần tử đầu tiên đến phần tử thứ 4\", t[0:4])"
      ],
      "metadata": {
        "colab": {
          "base_uri": "https://localhost:8080/"
        },
        "id": "nLLUAerSlSTk",
        "outputId": "add2c095-39fc-48bd-fe7c-a52c4f06cbef"
      },
      "execution_count": null,
      "outputs": [
        {
          "output_type": "stream",
          "name": "stdout",
          "text": [
            "Giá trị phần tử đầu tiên đến phần tử thứ 4 (12, 45, -1, -0.56)\n"
          ]
        }
      ]
    },
    {
      "cell_type": "markdown",
      "source": [
        "5"
      ],
      "metadata": {
        "id": "2Qu_R7N-lrjl"
      }
    },
    {
      "cell_type": "code",
      "source": [
        "print(\"giá trị của phần từ thứ 3 đến cuối cùng \", t[2:])"
      ],
      "metadata": {
        "colab": {
          "base_uri": "https://localhost:8080/"
        },
        "id": "7u1LZXqzlrot",
        "outputId": "c109b7e6-c4c5-43d6-fb7a-733e11400804"
      },
      "execution_count": null,
      "outputs": [
        {
          "output_type": "stream",
          "name": "stdout",
          "text": [
            "giá trị của phần từ thứ 3 đến cuối cùng  (-1, -0.56, 'abc', True)\n"
          ]
        }
      ]
    },
    {
      "cell_type": "markdown",
      "source": [
        "6"
      ],
      "metadata": {
        "id": "VaTWXzuFmeFW"
      }
    },
    {
      "cell_type": "code",
      "source": [
        "t = list(t)\n",
        "type(t)"
      ],
      "metadata": {
        "colab": {
          "base_uri": "https://localhost:8080/"
        },
        "id": "lZms_TkWmepe",
        "outputId": "245c3f2b-1341-42c5-dd1f-dc55f3911b14"
      },
      "execution_count": null,
      "outputs": [
        {
          "output_type": "execute_result",
          "data": {
            "text/plain": [
              "list"
            ]
          },
          "metadata": {},
          "execution_count": 8
        }
      ]
    }
  ]
}